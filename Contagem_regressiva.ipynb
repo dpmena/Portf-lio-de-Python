{
  "nbformat": 4,
  "nbformat_minor": 0,
  "metadata": {
    "colab": {
      "provenance": []
    },
    "kernelspec": {
      "name": "python3",
      "display_name": "Python 3"
    },
    "language_info": {
      "name": "python"
    }
  },
  "cells": [
    {
      "cell_type": "code",
      "source": [
        "import time\n",
        "num = int(input('Digite um número para a contagem regressiva: '))\n",
        "for i in range(num, -1, -1):\n",
        "  print(i)\n",
        "  time.sleep(1)"
      ],
      "metadata": {
        "id": "EanztFHg7ZQ0"
      },
      "execution_count": null,
      "outputs": []
    }
  ]
}