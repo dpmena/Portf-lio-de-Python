{
  "nbformat": 4,
  "nbformat_minor": 0,
  "metadata": {
    "colab": {
      "provenance": []
    },
    "kernelspec": {
      "name": "python3",
      "display_name": "Python 3"
    },
    "language_info": {
      "name": "python"
    }
  },
  "cells": [
    {
      "cell_type": "code",
      "source": [
        "num = int(input('Digite um número para ver a sua tabuada: '))\n",
        "print('f\"Tabuada do {num}:')\n",
        "for i in range (1, 11):\n",
        "  print(f'{num} x {i} = {num * i}')"
      ],
      "metadata": {
        "id": "kkctkDhLB3pI"
      },
      "execution_count": null,
      "outputs": []
    }
  ]
}