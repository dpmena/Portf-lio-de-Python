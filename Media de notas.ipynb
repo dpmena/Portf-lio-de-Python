{
  "nbformat": 4,
  "nbformat_minor": 0,
  "metadata": {
    "colab": {
      "provenance": []
    },
    "kernelspec": {
      "name": "python3",
      "display_name": "Python 3"
    },
    "language_info": {
      "name": "python"
    }
  },
  "cells": [
    {
      "cell_type": "code",
      "source": [
        "nota1 = float(input('Digite a primeira nota: '))\n",
        "nota2 = float(input('Digite a segunda nota: '))\n",
        "nota3 = float(input('Digite a terceira nota: '))\n",
        "media = (nota1 + nota2 + nota3) / 3\n",
        "if media >= 7:\n",
        " print(f'A média foi {media:.2f}. Aprovado!')\n",
        "else:\n",
        " print(f'A média foi {media:.2f}. Reprovado!')"
      ],
      "metadata": {
        "id": "pg_T8TKCAH09"
      },
      "execution_count": null,
      "outputs": []
    }
  ]
}